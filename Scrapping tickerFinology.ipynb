{
 "cells": [
  {
   "cell_type": "code",
   "execution_count": 1,
   "id": "forbidden-sending",
   "metadata": {},
   "outputs": [],
   "source": [
    "import re\n",
    "import requests\n",
    "import pandas as pd\n",
    "from bs4 import BeautifulSoup\n"
   ]
  },
  {
   "cell_type": "code",
   "execution_count": 2,
   "id": "organized-finder",
   "metadata": {},
   "outputs": [
    {
     "name": "stdout",
     "output_type": "stream",
     "text": [
      "['ACC', 'AUBANK', 'AARTIIND', 'ABBOTINDIA', 'AJANTPHARM', 'APLLTD', 'ALKEM', 'AMARAJABAT', 'AUROPHARMA', 'AXISBANK', 'BAJFINANCE', 'BANDHANBNK', 'BERGEPAINT', 'BEL', 'BPCL', 'BRITANNIA', 'CADILAHC', 'CASTROLIND', 'COALINDIA', 'COLPAL', 'COROMANDEL', 'CROMPTON', 'DABUR', 'DEEPAKNTR', 'DIVISLAB', 'DIXON', 'LALPATHLAB', 'DRREDDY', 'EICHERMOT', 'EMAMILTD', 'ESCORTS', 'EXIDEIND', 'GLENMARK', 'GODREJCP', 'GUJGASLTD', 'HCLTECH', 'HDFCBANK', 'HAVELLS', 'HAL', 'HINDPETRO', 'HINDUNILVR', 'ICICIBANK', 'ISEC', 'ITC', 'INDIAMART', 'IGL', 'INDUSTOWER', 'IPCALAB', 'KOTAKBANK', 'LTTS', 'LTI', 'LT', 'LAURUSLABS', 'MGL', 'MANAPPURAM', 'MARICO', 'MINDTREE', 'MPHASIS', 'MUTHOOTFIN', 'NMDC', 'NESTLEIND', 'PIIND', 'PETRONET', 'POLYCAB', 'PFC', 'POWERGRID', 'PGHH', 'RBLBANK', 'RECLTD', 'SBICARD', 'SUNTV', 'TCS', 'TITAN', 'TORNTPHARM', 'ZEEL']\n"
     ]
    }
   ],
   "source": [
    "# get companies rated 4 and above fundamentally in the nifty 200 index\n",
    "file = pd.read_csv(\"C:\\\\Projects\\\\Web Scrapping\\\\ind_nifty200list.csv\")\n",
    "symbols = file[\"Symbol\"]\n",
    "arr = []\n",
    "arr2 = []\n",
    "for i in symbols:\n",
    "#     print(i)\n",
    "    url = \"https://ticker.finology.in/company/\"+i\n",
    "    r = requests.get(url)\n",
    "    htmlContent = r.content\n",
    "    soup = BeautifulSoup(htmlContent, \"html.parser\")\n",
    "    if(soup.find(\"span\", {\"style\": \"--rating:4;\"}) or soup.find(\"span\", {\"style\": \"--rating:5;\"})):\n",
    "        arr.append(i)\n",
    "print(arr)\n"
   ]
  },
  {
   "cell_type": "code",
   "execution_count": null,
   "id": "exposed-rocket",
   "metadata": {},
   "outputs": [],
   "source": []
  }
 ],
 "metadata": {
  "kernelspec": {
   "display_name": "Python 3",
   "language": "python",
   "name": "python3"
  },
  "language_info": {
   "codemirror_mode": {
    "name": "ipython",
    "version": 3
   },
   "file_extension": ".py",
   "mimetype": "text/x-python",
   "name": "python",
   "nbconvert_exporter": "python",
   "pygments_lexer": "ipython3",
   "version": "3.7.7rc1"
  }
 },
 "nbformat": 4,
 "nbformat_minor": 5
}
